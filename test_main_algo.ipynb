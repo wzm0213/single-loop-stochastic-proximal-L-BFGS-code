{
 "cells": [
  {
   "cell_type": "code",
   "execution_count": 1,
   "metadata": {},
   "outputs": [],
   "source": [
    "import torch\n",
    "import matplotlib.pyplot as plt\n",
    "import numpy as np\n",
    "from scipy.sparse import random\n",
    "\n",
    "\n",
    "from main_algo import splbfgs\n",
    "\n",
    "torch.manual_seed(0)\n",
    "np.random.seed(0)\n",
    "torch.set_default_dtype(torch.float64)"
   ]
  },
  {
   "cell_type": "code",
   "execution_count": 8,
   "metadata": {},
   "outputs": [
    {
     "data": {
      "text/plain": [
       "<49749x300 sparse matrix of type '<class 'numpy.float64'>'\n",
       "\twith 579586 stored elements in Compressed Sparse Row format>"
      ]
     },
     "execution_count": 8,
     "metadata": {},
     "output_type": "execute_result"
    }
   ],
   "source": [
    "from sklearn.datasets import load_svmlight_file\n",
    "from scipy.sparse.linalg import norm\n",
    "w8a = load_svmlight_file('../datasets/w8a_train.libsvm')\n",
    "X4 = w8a[0]\n",
    "y4 = w8a[1]\n",
    "y4[y4 == -1] = 0\n",
    "w8a_test = load_svmlight_file('../datasets/w8a_test.libsvm')\n",
    "X4t = w8a_test[0]\n",
    "y4t = w8a_test[1]\n",
    "y4t[y4t == -1] = 0\n",
    "# np.sum(y4)/len(y4)\n",
    "# X4.shape\n",
    "L4 = np.mean(norm(X4, ord=2, axis=1) ** 2)\n",
    "X4"
   ]
  },
  {
   "cell_type": "code",
   "execution_count": 9,
   "metadata": {},
   "outputs": [],
   "source": [
    "# loading the optimal value\n",
    "data = np.load('../sequences/w8a_optimal.npz')\n",
    "data_t = np.load('../sequences/w8a_test_optimal.npz')\n",
    "x4_star = data['x_star']\n",
    "x4t_star = data_t['x_star']\n",
    "loss4_star = data['loss_star']\n",
    "loss4t_star = data_t['loss_star']"
   ]
  },
  {
   "cell_type": "code",
   "execution_count": 10,
   "metadata": {},
   "outputs": [],
   "source": [
    "p = 0.01\n",
    "lam = 1e-3\n",
    "mu = 1e-3\n",
    "\n",
    "w0 = 0.01 * torch.ones(X4.shape[1])\n",
    "y4 = torch.from_numpy(y4)"
   ]
  },
  {
   "cell_type": "code",
   "execution_count": 11,
   "metadata": {},
   "outputs": [
    {
     "name": "stderr",
     "output_type": "stream",
     "text": [
      "100%|██████████| 600/600 [00:12<00:00, 47.52it/s]\n"
     ]
    }
   ],
   "source": [
    "torch.manual_seed(2) # depend on seed\n",
    "loss, para, info = splbfgs(X=X4, y=y4, b=256, bH=6000, M=10, L=10, alpha=0.012, prob=p, w=w0, n_epochs=600, lam=lam, mu=mu, optimizer='ssn')"
   ]
  },
  {
   "cell_type": "code",
   "execution_count": 12,
   "metadata": {},
   "outputs": [
    {
     "data": {
      "text/plain": [
       "[1.6211862564086914, 4.63103448275862, 6, 5.5, 0.08703804016113281]"
      ]
     },
     "execution_count": 12,
     "metadata": {},
     "output_type": "execute_result"
    }
   ],
   "source": [
    "info"
   ]
  },
  {
   "cell_type": "code",
   "execution_count": 13,
   "metadata": {},
   "outputs": [
    {
     "data": {
      "image/png": "[encoded data removed]",
      "text/plain": [
       "<Figure size 640x480 with 1 Axes>"
      ]
     },
     "metadata": {},
     "output_type": "display_data"
    }
   ],
   "source": [
    "plt.plot(loss-loss4_star, label=f'Algorithm 1-1', color='r', marker='s', markersize=7, markevery=100)\n",
    "plt.legend(fontsize=11)\n",
    "plt.yscale('log')\n",
    "plt.xlabel('Iterations', fontsize=12)\n",
    "plt.ylabel(r'$\\log\\left(F(x_k)-F^*\\right)$', fontsize=12)\n",
    "plt.show()"
   ]
  },
  {
   "cell_type": "code",
   "execution_count": 2,
   "metadata": {},
   "outputs": [],
   "source": [
    "# generate synthetic sparse data, do not run\n",
    "n = 10000\n",
    "d = 100000\n",
    "X = random(n, d, density=0.001, format='csr')\n",
    "y = torch.randint(0, 2, (n,))"
   ]
  },
  {
   "cell_type": "code",
   "execution_count": 5,
   "metadata": {},
   "outputs": [],
   "source": [
    "# save the sparse matrix\n",
    "from scipy.sparse import save_npz, load_npz\n",
    "save_npz('sparse_matrix.npz', X)"
   ]
  },
  {
   "cell_type": "code",
   "execution_count": 9,
   "metadata": {},
   "outputs": [],
   "source": [
    "p = 0.01\n",
    "lam = 1e-3\n",
    "mu = 1e-3\n",
    "X = load_npz('sparse_matrix.npz')\n",
    "\n",
    "w0 = 0.01 * torch.ones(X.shape[1])"
   ]
  },
  {
   "cell_type": "code",
   "execution_count": 16,
   "metadata": {},
   "outputs": [
    {
     "name": "stderr",
     "output_type": "stream",
     "text": [
      "100%|██████████| 100/100 [00:14<00:00,  6.70it/s]\n"
     ]
    }
   ],
   "source": [
    "torch.manual_seed(2) # depend on seed\n",
    "loss, para, info = splbfgs(X=X, y=y, b=256, bH=600, M=10, L=10, alpha=0.02, prob=p, w=w0, n_epochs=100, lam=lam, mu=mu, optimizer='ssn')"
   ]
  },
  {
   "cell_type": "code",
   "execution_count": 11,
   "metadata": {},
   "outputs": [
    {
     "data": {
      "text/plain": [
       "[19.129650831222534,\n",
       " 4.543103448275862,\n",
       " 59,\n",
       " 18.677966101694917,\n",
       " 0.3315694332122803]"
      ]
     },
     "execution_count": 11,
     "metadata": {},
     "output_type": "execute_result"
    }
   ],
   "source": [
    "info"
   ]
  },
  {
   "cell_type": "code",
   "execution_count": 1,
   "metadata": {},
   "outputs": [
    {
     "ename": "NameError",
     "evalue": "name 'plt' is not defined",
     "output_type": "error",
     "traceback": [
      "\u001b[1;31m---------------------------------------------------------------------------\u001b[0m",
      "\u001b[1;31mNameError\u001b[0m                                 Traceback (most recent call last)",
      "Cell \u001b[1;32mIn[1], line 1\u001b[0m\n\u001b[1;32m----> 1\u001b[0m \u001b[43mplt\u001b[49m\u001b[38;5;241m.\u001b[39mplot(loss, label\u001b[38;5;241m=\u001b[39m\u001b[38;5;124mf\u001b[39m\u001b[38;5;124m'\u001b[39m\u001b[38;5;124mAlgorithm 1-1\u001b[39m\u001b[38;5;124m'\u001b[39m, color\u001b[38;5;241m=\u001b[39m\u001b[38;5;124m'\u001b[39m\u001b[38;5;124mr\u001b[39m\u001b[38;5;124m'\u001b[39m, marker\u001b[38;5;241m=\u001b[39m\u001b[38;5;124m'\u001b[39m\u001b[38;5;124ms\u001b[39m\u001b[38;5;124m'\u001b[39m, markersize\u001b[38;5;241m=\u001b[39m\u001b[38;5;241m7\u001b[39m, markevery\u001b[38;5;241m=\u001b[39m\u001b[38;5;241m100\u001b[39m)\n\u001b[0;32m      2\u001b[0m plt\u001b[38;5;241m.\u001b[39mlegend(fontsize\u001b[38;5;241m=\u001b[39m\u001b[38;5;241m11\u001b[39m)\n\u001b[0;32m      3\u001b[0m \u001b[38;5;66;03m# plt.yscale('log')\u001b[39;00m\n",
      "\u001b[1;31mNameError\u001b[0m: name 'plt' is not defined"
     ]
    }
   ],
   "source": [
    "plt.plot(loss, label=f'Algorithm 1-1', color='r', marker='s', markersize=7, markevery=100)\n",
    "plt.legend(fontsize=11)\n",
    "# plt.yscale('log')\n",
    "plt.xlabel('Iterations', fontsize=12)\n",
    "plt.ylabel(r'$\\log\\left(F(x_k)-F^*\\right)$', fontsize=12)\n",
    "plt.show()"
   ]
  }
 ],
 "metadata": {
  "kernelspec": {
   "display_name": "Python 3",
   "language": "python",
   "name": "python3"
  },
  "language_info": {
   "codemirror_mode": {
    "name": "ipython",
    "version": 3
   },
   "file_extension": ".py",
   "mimetype": "text/x-python",
   "name": "python",
   "nbconvert_exporter": "python",
   "pygments_lexer": "ipython3",
   "version": "3.8.8"
  }
 },
 "nbformat": 4,
 "nbformat_minor": 2
}
