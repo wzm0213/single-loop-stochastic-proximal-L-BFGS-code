{
 "cells": [
  {
   "cell_type": "code",
   "execution_count": 10,
   "metadata": {},
   "outputs": [],
   "source": [
    "import torch\n",
    "import matplotlib.pyplot as plt\n",
    "import numpy as np\n",
    "from scipy.sparse import random, save_npz, load_npz\n",
    "from functools import partial\n",
    "\n",
    "from main_algo import splbfgs\n",
    "from fista import fista\n",
    "from logistic_setup import f_grad, F\n",
    "\n",
    "torch.manual_seed(0)\n",
    "np.random.seed(0)\n",
    "torch.set_default_dtype(torch.float64)"
   ]
  },
  {
   "cell_type": "code",
   "execution_count": 2,
   "metadata": {},
   "outputs": [],
   "source": [
    "# generate synthetic data, do not run\n",
    "n = 10000\n",
    "d1 = 5000\n",
    "X1 = torch.randn(n, d1)\n",
    "y1 = torch.randint(0, 2, (n,))\n",
    "\n",
    "d = 100000\n",
    "X2 = random(n, d, density=0.001, format='csr')\n",
    "X3 = random(n, d, density=0.01, format='csr')\n"
   ]
  },
  {
   "cell_type": "code",
   "execution_count": null,
   "metadata": {},
   "outputs": [],
   "source": [
    "# save data\n",
    "torch.save(X1, '../torch_version_sequence/dense_5k.pt')\n",
    "save_npz('../torch_version_sequence/sparse_10w_0001.npz', X2)\n",
    "save_npz('../torch_version_sequence/sparse_10w_001.npz', X3)"
   ]
  },
  {
   "cell_type": "code",
   "execution_count": 3,
   "metadata": {},
   "outputs": [],
   "source": [
    "X1 = torch.load('../torch_version_sequence/dense_5k.pt')\n",
    "X2 = load_npz('../torch_version_sequence/sparse_10w_0001.npz')\n",
    "X3 = load_npz('../torch_version_sequence/sparse_10w_001.npz')"
   ]
  },
  {
   "cell_type": "code",
   "execution_count": 8,
   "metadata": {},
   "outputs": [
    {
     "data": {
      "text/plain": [
       "(10000,)"
      ]
     },
     "execution_count": 8,
     "metadata": {},
     "output_type": "execute_result"
    }
   ],
   "source": [
    "L1 = torch.max(torch.norm(X1, dim=1, p=2)**2)\n",
    "L2 = np.max(np.sqrt(np.asarray(X2.multiply(X2).sum(axis=1)).squeeze()))\n",
    "L3 = np.max(np.sqrt(np.asarray(X3.multiply(X3).sum(axis=1)).squeeze()))\n",
    "\n",
    "n1 = X1.shape[0]\n",
    "n2 = X2.shape[0]\n",
    "n3 = X3.shape[0]\n",
    "\n",
    "torch.manual_seed(0)\n",
    "y1 = torch.randint(0, 2, (n1,))\n",
    "y2 = torch.randint(0, 2, (n2,))\n",
    "y3 = torch.randint(0, 2, (n3,))\n",
    "\n",
    "(L1, L2, L3)"
   ]
  },
  {
   "cell_type": "code",
   "execution_count": 11,
   "metadata": {},
   "outputs": [],
   "source": [
    "# use fista to derive optimal values, do not run it again!\n",
    "\n",
    "# set lambda and mu\n",
    "lam = 1e-3\n",
    "mu = 1e-3\n",
    "\n",
    "# define grad_function given dataset X, y, mu\n",
    "grad1 = partial(f_grad, X=X1, y=y1, mu=mu)\n",
    "grad2 = partial(f_grad, X=X2, y=y2, mu=mu)\n",
    "grad3 = partial(f_grad, X=X3, y=y3, mu=mu)\n",
    "\n",
    "# Apply FISTA to solve the original problem\n",
    "x_init_1 = 0.01 * torch.ones(X1.shape[1])\n",
    "x_init_2 = 0.01 * torch.ones(X2.shape[1])\n",
    "x_init_3 = 0.01 * torch.ones(X3.shape[1])\n",
    "\n",
    "options = {'stopping': '', 'threshold': 1e-10, 'max_iter': 10000, 'store_seq': False}\n",
    "\n",
    "x_1_opt, _ = fista(grad1, L1, lam, x_init_1, options)\n",
    "x_2_opt, _ = fista(grad2, L2, lam, x_init_2, options)\n",
    "x_3_opt, _ = fista(grad3, L3, lam, x_init_3, options)\n",
    "\n",
    "loss_1_opt = F(x_1_opt, X1, y1, mu, lam)\n",
    "loss_2_opt = F(x_2_opt, X2, y2, mu, lam)\n",
    "loss_3_opt = F(x_3_opt, X3, y3, mu, lam)\n",
    "\n",
    "np.savez('../torch_version_sequence/synthetic_10000_optimal.npz', x1=x_1_opt, x2=x_2_opt, x3=x_3_opt, loss1=loss_1_opt, loss2=loss_2_opt, loss3=loss_3_opt)"
   ]
  },
  {
   "cell_type": "code",
   "execution_count": 13,
   "metadata": {},
   "outputs": [],
   "source": [
    "p = 0.01\n",
    "lam = 1e-3\n",
    "mu = 1e-3\n",
    "\n",
    "x_init_1 = 0.01 * torch.ones(X1.shape[1])\n",
    "x_init_2 = 0.01 * torch.ones(X2.shape[1])\n",
    "x_init_3 = 0.01 * torch.ones(X3.shape[1])"
   ]
  },
  {
   "cell_type": "code",
   "execution_count": 16,
   "metadata": {},
   "outputs": [
    {
     "name": "stderr",
     "output_type": "stream",
     "text": [
      "100%|██████████| 100/100 [00:15<00:00,  6.35it/s]\n"
     ]
    }
   ],
   "source": [
    "loss, para, info = splbfgs(X=X2, y=y2, b=256, bH=600, M=10, L=10, alpha=0.02, prob=p, w=x_init_2, n_epochs=100, lam=lam, mu=mu, optimizer='ssn')"
   ]
  },
  {
   "cell_type": "code",
   "execution_count": 17,
   "metadata": {},
   "outputs": [
    {
     "data": {
      "text/plain": [
       "[2.78212308883667, 6.2875, 58, 18.413793103448278, 0]"
      ]
     },
     "execution_count": 17,
     "metadata": {},
     "output_type": "execute_result"
    }
   ],
   "source": [
    "info"
   ]
  },
  {
   "cell_type": "code",
   "execution_count": 20,
   "metadata": {},
   "outputs": [
    {
     "data": {
      "image/png": "[encoded data removed]",
      "text/plain": [
       "<Figure size 640x480 with 1 Axes>"
      ]
     },
     "metadata": {},
     "output_type": "display_data"
    }
   ],
   "source": [
    "plt.plot(loss-loss_2_opt, label=f'Algorithm 1-1', color='r', marker='s', markersize=5, markevery=2)\n",
    "plt.legend(fontsize=11)\n",
    "plt.yscale('log')\n",
    "plt.xlabel('Iterations', fontsize=12)\n",
    "plt.ylabel(r'$\\log\\left(F(x_k)-F^*\\right)$', fontsize=12)\n",
    "plt.show()"
   ]
  }
 ],
 "metadata": {
  "kernelspec": {
   "display_name": "Python 3",
   "language": "python",
   "name": "python3"
  },
  "language_info": {
   "codemirror_mode": {
    "name": "ipython",
    "version": 3
   },
   "file_extension": ".py",
   "mimetype": "text/x-python",
   "name": "python",
   "nbconvert_exporter": "python",
   "pygments_lexer": "ipython3",
   "version": "3.8.8"
  }
 },
 "nbformat": 4,
 "nbformat_minor": 2
}
